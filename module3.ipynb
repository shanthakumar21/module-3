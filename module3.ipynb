{
 "cells": [
  {
   "cell_type": "code",
   "execution_count": 55,
   "metadata": {},
   "outputs": [],
   "source": [
    "import pandas as pd\n",
    "import random\n",
    "import string"
   ]
  },
  {
   "cell_type": "code",
   "execution_count": 56,
   "metadata": {},
   "outputs": [],
   "source": [
    "d={1:['1','Burgers','4.25'],2:['2','Nuggets','2.50'],3:['3','French Fries','2.00'],\n",
    "   4:['4','Small Drink','1.25'],5:['5','Medium Drink','1.50'],6:['6','Large Drink','1.75'],7:['7','Salad','3.75']}\n"
   ]
  },
  {
   "cell_type": "code",
   "execution_count": 57,
   "metadata": {},
   "outputs": [
    {
     "data": {
      "text/html": [
       "<div>\n",
       "<style scoped>\n",
       "    .dataframe tbody tr th:only-of-type {\n",
       "        vertical-align: middle;\n",
       "    }\n",
       "\n",
       "    .dataframe tbody tr th {\n",
       "        vertical-align: top;\n",
       "    }\n",
       "\n",
       "    .dataframe thead th {\n",
       "        text-align: right;\n",
       "    }\n",
       "</style>\n",
       "<table border=\"1\" class=\"dataframe\">\n",
       "  <thead>\n",
       "    <tr style=\"text-align: right;\">\n",
       "      <th></th>\n",
       "      <th>0</th>\n",
       "      <th>1</th>\n",
       "      <th>2</th>\n",
       "    </tr>\n",
       "  </thead>\n",
       "  <tbody>\n",
       "    <tr>\n",
       "      <th>1</th>\n",
       "      <td>1</td>\n",
       "      <td>Burgers</td>\n",
       "      <td>4.25</td>\n",
       "    </tr>\n",
       "    <tr>\n",
       "      <th>2</th>\n",
       "      <td>2</td>\n",
       "      <td>Nuggets</td>\n",
       "      <td>2.50</td>\n",
       "    </tr>\n",
       "    <tr>\n",
       "      <th>3</th>\n",
       "      <td>3</td>\n",
       "      <td>French Fries</td>\n",
       "      <td>2.00</td>\n",
       "    </tr>\n",
       "    <tr>\n",
       "      <th>4</th>\n",
       "      <td>4</td>\n",
       "      <td>Small Drink</td>\n",
       "      <td>1.25</td>\n",
       "    </tr>\n",
       "    <tr>\n",
       "      <th>5</th>\n",
       "      <td>5</td>\n",
       "      <td>Medium Drink</td>\n",
       "      <td>1.50</td>\n",
       "    </tr>\n",
       "    <tr>\n",
       "      <th>6</th>\n",
       "      <td>6</td>\n",
       "      <td>Large Drink</td>\n",
       "      <td>1.75</td>\n",
       "    </tr>\n",
       "    <tr>\n",
       "      <th>7</th>\n",
       "      <td>7</td>\n",
       "      <td>Salad</td>\n",
       "      <td>3.75</td>\n",
       "    </tr>\n",
       "  </tbody>\n",
       "</table>\n",
       "</div>"
      ],
      "text/plain": [
       "   0             1     2\n",
       "1  1       Burgers  4.25\n",
       "2  2       Nuggets  2.50\n",
       "3  3  French Fries  2.00\n",
       "4  4   Small Drink  1.25\n",
       "5  5  Medium Drink  1.50\n",
       "6  6   Large Drink  1.75\n",
       "7  7         Salad  3.75"
      ]
     },
     "execution_count": 57,
     "metadata": {},
     "output_type": "execute_result"
    }
   ],
   "source": [
    "df=pd.DataFrame(d)\n",
    "df=df.transpose()\n",
    "df"
   ]
  },
  {
   "cell_type": "code",
   "execution_count": 58,
   "metadata": {},
   "outputs": [
    {
     "name": "stdout",
     "output_type": "stream",
     "text": [
      "1.5 1.55 1.6\n",
      "4.1125 4.199999999999999 4.2875\n"
     ]
    }
   ],
   "source": [
    "temp=float(d[1][2])+float(d[3][2])\n",
    "A1=temp+float(d[4][2])\n",
    "A1=A1*.20\n",
    "A2=temp+float(d[5][2])\n",
    "A2=A2*.20\n",
    "A3=temp+float(d[6][2])\n",
    "A3=A3*.20\n",
    "print(A1,A2,A3)\n",
    "    \n",
    "temp=float(d[1][2])+float(d[2][2])+float(d[7][2])\n",
    "B1=temp+float(d[4][2])\n",
    "B1=B1*.35\n",
    "B2=temp+float(d[5][2])\n",
    "B2=B2*.35\n",
    "B3=temp+float(d[6][2])\n",
    "B3=B3*.35\n",
    "print(B1,B2,B3)\n",
    "discount_price = {'A1':1.5,'A2':1.55,'A3':1.6,'B1':4.1125,'B2':4.2,'B3':4.2875,'SA1':3.0,'SA2':3.1,'SA3':3.2}\n"
   ]
  },
  {
   "cell_type": "code",
   "execution_count": 59,
   "metadata": {},
   "outputs": [
    {
     "name": "stdout",
     "output_type": "stream",
     "text": [
      "1.Burgers-4.25\n",
      "2.Nuggets-2.50\n",
      "3.French Fries-2.00\n",
      "4.Small Drink-1.25\n",
      "5.Medium Drink-1.50\n",
      "6.Large Drink-1.75\n",
      "7.Salad-3.75\n"
     ]
    }
   ],
   "source": [
    "for i in d:\n",
    "    print(d[i][0] +'.'+d[i][1] +'-'+d[i][2])"
   ]
  },
  {
   "cell_type": "code",
   "execution_count": 60,
   "metadata": {},
   "outputs": [],
   "source": [
    "# print(\"Combo Offers are.. \\n A) 1 Burger + 1 Portion of Fries + 1 Drink -> 20% Discount [13 any of 4,5,6]\")\n",
    "# print(\" B) 1 Burger + 1 Portion of Nuggets + 1 Salad + 1 Drink -> 35% Discount [127 any of 456]\")"
   ]
  },
  {
   "cell_type": "code",
   "execution_count": 61,
   "metadata": {},
   "outputs": [
    {
     "name": "stdout",
     "output_type": "stream",
     "text": [
      "[[1, 3, 4], [1, 3, 5], [1, 3, 6]] \n",
      "\n",
      "\n",
      " [[1, 3, 4, 1, 3, 4], [1, 3, 5, 1, 3, 5], [1, 3, 6, 1, 3, 6]] \n",
      "\n",
      "\n",
      " [[1, 2, 7, 4], [1, 2, 7, 5], [1, 2, 7, 6]]\n"
     ]
    }
   ],
   "source": [
    "A=[[1,3,4],[1,3,5],[1,3,6]]\n",
    "SA=[[1,3,4,1,3,4],[1,3,5,1,3,5],[1,3,6,1,3,6]]\n",
    "B=[[1,2,7,4],[1,2,7,5],[1,2,7,6]]\n",
    "\n",
    "def split(word): \n",
    "    return [char for char in word]  \n",
    "print(A,'\\n''\\n''\\n',SA,'\\n''\\n''\\n',B)"
   ]
  },
  {
   "cell_type": "code",
   "execution_count": 62,
   "metadata": {
    "scrolled": true
   },
   "outputs": [
    {
     "name": "stdout",
     "output_type": "stream",
     "text": [
      "Combo Offers are.. \n",
      " A) 1 Burger + 1 Portion of Fries + 1 Drink -> 20% Discount [13 any of 4,5,6]\n",
      " B) 1 Burger + 1 Portion of Nuggets + 1 Salad + 1 Drink -> 35% Discount [127 any of 456]\n"
     ]
    }
   ],
   "source": [
    "print(\"Combo Offers are.. \\n A) 1 Burger + 1 Portion of Fries + 1 Drink -> 20% Discount [13 any of 4,5,6]\")\n",
    "print(\" B) 1 Burger + 1 Portion of Nuggets + 1 Salad + 1 Drink -> 35% Discount [127 any of 456]\")\n",
    "day_count=1\n",
    "no=[]\n",
    "day=[]\n",
    "# SINCE OCTOBER\n",
    "while(day_count<=31):\n",
    "    j=0\n",
    "    ch='y'\n",
    "    total_cost_per_day=0\n",
    "    count_customer_day=random.randint(20,50)\n",
    "    while(count_customer_day>0):\n",
    "        \n",
    "#   IGNORE THIS  order=input(\"Enter the order: \")--------------   \n",
    "#   IGNORE THIS   order=''.join(random.choices(string.digits, k=random.randint(3,7)))\n",
    "\n",
    "        order=[]\n",
    "\n",
    "        for i in range(random.randint(3,7)):\n",
    "            order.append(random.randint(1,7))\n",
    "            \n",
    "        order=split(order)\n",
    "        initial_cost=0 \n",
    "        \n",
    "        #initializing cost to 0     \n",
    "\n",
    "        for i in order:\n",
    "            initial_cost=initial_cost+float(d[int(i)][2])\n",
    "\n",
    "\n",
    "        arr=[]\n",
    "\n",
    "        # to convert string to integer values    \n",
    "        def convert_to_int(order):\n",
    "            for i in order:\n",
    "                arr.append(int(i))\n",
    "\n",
    "        convert_to_int(order)\n",
    "        arr.sort()\n",
    "\n",
    "        # IGNORE THIS all(x in A[1] for x in arr)\n",
    "\n",
    "        # COMBOS \n",
    "\n",
    "        combo=[]\n",
    "        for i in range(0,3):\n",
    "            if(all(x in arr for x in B[i])):\n",
    "                combo.append('B' + str(i+1))\n",
    "\n",
    "            elif(all(x in arr for x in A[i])):\n",
    "                combo.append('A'+str(i+1))\n",
    "\n",
    "            elif(all(x in arr for x in SA[i]) and arr.count(3)==2 and arr.count(1)==2 and (arr.count(5)==2 or arr.count(4)==2 or arr.count(6)==2) ):\n",
    "                combo.append('SA' +str(i+1))\n",
    "                break\n",
    "\n",
    "        # By placing B[i] above other if statements even if there is a possibility of availing multiple combo offers in an order, \n",
    "        # the program will select B over A. (Since it has the maximum discount) \n",
    "\n",
    "\n",
    "        for i in range(len(combo)):\n",
    "            initial_cost= initial_cost - discount_price[combo[i]]     \n",
    "\n",
    "        final_cost=initial_cost + (initial_cost *.18)\n",
    "        # Number of customers\n",
    "        j=j+1 \n",
    "        total_cost_per_day+=final_cost\n",
    "#  IGNORE THIS       ch=input(\"Is there another \"+str(j+1)+\" customer?\")------------\n",
    "        count_customer_day-=1\n",
    "    day.append(total_cost_per_day)\n",
    "    no.append(day_count)\n",
    "    day_count+=1\n",
    "\n"
   ]
  },
  {
   "cell_type": "code",
   "execution_count": 63,
   "metadata": {},
   "outputs": [
    {
     "data": {
      "text/plain": [
       "Text(0,0.5,'Profit')"
      ]
     },
     "execution_count": 63,
     "metadata": {},
     "output_type": "execute_result"
    },
    {
     "data": {
      "image/png": "[encoded data removed]",
      "text/plain": [
       "<Figure size 432x288 with 1 Axes>"
      ]
     },
     "metadata": {
      "needs_background": "light"
     },
     "output_type": "display_data"
    }
   ],
   "source": [
    "# Plotting PROFIT \n",
    "\n",
    "\n",
    "import matplotlib.pyplot as plt\n",
    "plt.plot(no, day,'ro')\n",
    "plt.axis([0, 31, 0, 1000])\n",
    "plt.xlabel('Days')\n",
    "plt.ylabel('Profit')"
   ]
  },
  {
   "cell_type": "code",
   "execution_count": null,
   "metadata": {},
   "outputs": [],
   "source": []
  }
 ],
 "metadata": {
  "kernelspec": {
   "display_name": "Python 3",
   "language": "python",
   "name": "python3"
  },
  "language_info": {
   "codemirror_mode": {
    "name": "ipython",
    "version": 3
   },
   "file_extension": ".py",
   "mimetype": "text/x-python",
   "name": "python",
   "nbconvert_exporter": "python",
   "pygments_lexer": "ipython3",
   "version": "3.7.0"
  },
  "pycharm": {
   "stem_cell": {
    "cell_type": "raw",
    "metadata": {
     "collapsed": false
    },
    "source": []
   }
  }
 },
 "nbformat": 4,
 "nbformat_minor": 2
}
